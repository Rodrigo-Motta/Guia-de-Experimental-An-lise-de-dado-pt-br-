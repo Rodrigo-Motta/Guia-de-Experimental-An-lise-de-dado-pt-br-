{
 "cells": [
  {
   "cell_type": "markdown",
   "metadata": {},
   "source": [
    " <h1><center>Guia básico para experimental no Python</center></h1>\n",
    " \n",
    "<img src=\"webnotrrot.jpg\" width=350 height=350 />\n",
    " \n",
    " # 1. Bibliotecas\n",
    " \n",
    "Primeiramente é importante verificar corretamente quais bibliotecas importar, em geral importamos: "
   ]
  },
  {
   "cell_type": "code",
   "execution_count": null,
   "metadata": {},
   "outputs": [],
   "source": [
    "import numpy as np\n",
    "import pandas as pd\n",
    "import matplotlib.pyplot as plt \n",
    "import scipy.optimize as optimization\n",
    "import scipy.odr.odrpack as odrpack"
   ]
  },
  {
   "cell_type": "markdown",
   "metadata": {},
   "source": [
    "### Numpy\n",
    "$*$ Numpy é uma biblioteca usada para administrar arrays, sendo esses \"vetores\" que podem ser interpretados como as coordenadas no $\\mathbb{R}^{n}$. Então, você pode colocar seus dados em arrays para fazer operações matemáticas com eles, por exemplo, podemos criar um array com incertezas de dados e operar com eles.\n",
    "\n",
    "$*$ Também podemos usar ferramentas matemáticas com muita precisão, por exemplo, Cos(x), Sin(x), Sinh(x) e MUITOS outros.\n",
    "\n",
    "$*$ Cálculo numérico ( integração, solução de sistemas lineares e não lineares, solução de EDO,etc)\n",
    "\n",
    "$*$ Todas as informações podem ser encontradas na referência da biblioteca: https://numpy.org/doc/stable/reference/ ,\n",
    "ou também nos StackOverflow da vida"
   ]
  },
  {
   "cell_type": "code",
   "execution_count": null,
   "metadata": {},
   "outputs": [],
   "source": [
    "incertezas = np.array([0.5,0.6,0.4,0.3,0.6])\n",
    "incertezas = incertezas*2\n",
    "incertezas"
   ]
  },
  {
   "cell_type": "markdown",
   "metadata": {},
   "source": [
    "Podemos mudar apenas uma componente no array, ou então, podemos mudar conjuntos dentro do array.\n",
    "\n",
    "(Perceba que os valores estão mudados na célula de baixo devido as operações acima)\n",
    "\n",
    "(Perceba também que o python não conta a terceira coordenda do vetor na separação, ou seja, o intervalo é aberto no final)"
   ]
  },
  {
   "cell_type": "code",
   "execution_count": null,
   "metadata": {},
   "outputs": [],
   "source": [
    "incertezas[1:3] = incertezas[1:3]*np.cos(2)\n",
    "incertezas"
   ]
  },
  {
   "cell_type": "markdown",
   "metadata": {},
   "source": [
    "Podemos separar o array nas componentes que nos interessam. Isso se chama \"Slicing\".\n",
    "###### Quando declarar uma variável como um slicing de um array temos um cópia, ou seja, no nosso caso, mudar o qualquer elemento do \"pedaco\" mudará o mesmo elemento na variável \"incerteza\". Para evitar isso, basta fazer uma cópia com np.copy(array)"
   ]
  },
  {
   "cell_type": "code",
   "execution_count": null,
   "metadata": {},
   "outputs": [],
   "source": [
    "pedaco = incertezas[:4]\n",
    "pedaco"
   ]
  },
  {
   "cell_type": "markdown",
   "metadata": {},
   "source": [
    "Vou usar numpy para criar vetores com valores para embarcar no ajuste e no gráfico, então, vou definir os valores de x, y e sigmaX."
   ]
  },
  {
   "cell_type": "code",
   "execution_count": null,
   "metadata": {},
   "outputs": [],
   "source": [
    "x = np.linspace(0,100,10)\n"
   ]
  },
  {
   "cell_type": "markdown",
   "metadata": {},
   "source": [
    "### Modelo"
   ]
  },
  {
   "cell_type": "code",
   "execution_count": null,
   "metadata": {},
   "outputs": [],
   "source": [
    "def f(x, b, a):\n",
    "    return a*x + b\n",
    "\n",
    "# Criação dos valores de y\n",
    "y = f(x,0.5,1)\n",
    "\n",
    "#criando valores aleatórios entre o range [0.5,0.6]\n",
    "sigma_y = np.random.uniform(low=2, high=5, size=(10,))"
   ]
  },
  {
   "cell_type": "markdown",
   "metadata": {},
   "source": [
    "## Scipy\n",
    "\n",
    "$*$ Essa biblioteca é um grupo de várias bibliotecas, nela temos quase todas as ferramentas numéricas para integração, Álgebra Linear, Analise de Fourier, estatística, etc.\n",
    "\n",
    "$*$ A referência https://docs.scipy.org/doc/scipy/reference/index.html\n",
    "\n",
    "### Scipy.optimization\n",
    "\n",
    "$*$ Scipy.optimization é uma sub-biblioteca do scipy para optimização de parâmetros, no caso, usaremos o curve_fit, que serve para ajuste de funções lineares e não lineares usando MMQ, da mesma forma que o webROOT(para apenas incertezas em y), além de fornecer a matriz de covariância.\n",
    "###### $*$ O método curve_fit só considera o $\\sigma_y$, uma vez que utiliza o MMQ ordinário. Para incerteza em ambas as variáveis temos o MMQ total, que é feito com o método ODR do Scipy. Isso será abordado na última parte do notebook! ( parte prática).\n",
    "\n",
    "$*$ A referência https://docs.scipy.org/doc/scipy/reference/tutorial/optimize.html"
   ]
  },
  {
   "cell_type": "code",
   "execution_count": null,
   "metadata": {},
   "outputs": [],
   "source": [
    "#xo é o chute dos parâmetros\n",
    "xo = [0,0]\n",
    "fit = optimization.curve_fit(f, x, y, p0=xo, sigma=sigma_y,absolute_sigma=True)  \n",
    "fit"
   ]
  },
  {
   "cell_type": "markdown",
   "metadata": {},
   "source": [
    "Agora perceba que o \"fit\" devolvou um dois arrays, como se fosse uma lista contendo dois arrays. O primeiro array é o chute do parâmetros e o segundo array é a matriz de covariância( note que esse array tem 2 colunas e 2 linhas). Podemos apresentar tudo isso de maneira mais agradável, como será feito na próxima sessão com a biblioteca Pandas.\n",
    "\n",
    "(Você pode calcular o $\\chi^2$ sem biblioteca, visto que é bem simples). Equação em baixo só para mostrar como usa latex aqui."
   ]
  },
  {
   "cell_type": "markdown",
   "metadata": {},
   "source": [
    "$$\n",
    "\\begin{align}\n",
    "{\\chi}^2=\\sum_{k=1}^{n} \\frac{(y_i - f(x_i))^2}{\\sigma_y^2}\n",
    "\\end{align}\n",
    "$$"
   ]
  },
  {
   "cell_type": "code",
   "execution_count": null,
   "metadata": {},
   "outputs": [],
   "source": [
    "a = fit[0][1]\n",
    "b = fit[0][0]\n",
    "#np.diag pega a diagonal da matriz de covariância, outro artifício do numpy\n",
    "stdevs = np.sqrt(np.diag(fit[1]))\n",
    "#stdevs é um array contendo duas componentes stdevs[0] é a incerteza do parâmetro (b) e stdevs[1] do parâmetro (a)\n",
    "Chi2 = chi = sum((y - f(x, b, a))**2/(sigma_y**2))\n",
    "Chi2"
   ]
  },
  {
   "cell_type": "markdown",
   "metadata": {},
   "source": [
    "## Pandas\n",
    "\n",
    "$*$ Essa biblioteca se preocupa em manipular dados de forma estrutural, por exemplo, criando e operando \"tabelas\" que nós chamamos de DATA FRAME. Mas ela é muito mais complexa do que isso, tendo muita aplicação em machine learning( numpy também tem bastante), então, só vou abordar de forma bem superfícial, mas encorajo você a pesquisar e aprender a mexer em DATA FRAMES.\n",
    "\n",
    "$*$ Vou usa-la para criar uma tabela dos coeficientes, uma aplicação bem porca para a biblioteca rs. Em geral eu monto os dados numa planilha do Google Sheets, baixo em csv e passo para o python em forma de Data Frame, assim fica muito fácil trabalhar. O pandas faz com que as colunas de Data Frames se comportem como arrays, dessa forma, posso fazer operações matemáticas com colunas e linhas. \n",
    "\n",
    "$*$ O guia/referência é : https://pandas.pydata.org/docs/user_guide/index.html"
   ]
  },
  {
   "cell_type": "code",
   "execution_count": null,
   "metadata": {},
   "outputs": [],
   "source": [
    "df = pd.DataFrame({'Parâmetro(a)' : [a,stdevs[1]], 'Parâmetro(b)' : [b,stdevs[0]]}, index=['Valor', 'Incerteza'])\n",
    "df"
   ]
  },
  {
   "cell_type": "markdown",
   "metadata": {},
   "source": [
    "### Matplotlib\n",
    "\n",
    "$*$ O nome da biblioteca fala por ela. Para plotar todo tipo de coisa e ainda dá configurar ao máximo os gráficos.\n",
    "\n",
    "$*$ Tem muito conteúdo na internet e a referencia dela é bacana e recheada de exemplo https://matplotlib.org/tutorials/index.html#introductory, novamente o StackOverflow é uma ótima fonte de pesquisa."
   ]
  },
  {
   "cell_type": "code",
   "execution_count": null,
   "metadata": {},
   "outputs": [],
   "source": [
    "h = plt.figure(1)\n",
    "h = plt.plot(x,f(x,b,a), label=\"model\", color='black')\n",
    "h = plt.errorbar(x,y,sigma_y,fmt='.',color='red')\n",
    "h = plt.grid()\n",
    "h = plt.ylabel(r'$f(x)$')\n",
    "h = plt.xlabel(r'$x$')\n",
    "#para salvar o gráfico no mesmo diretório\n",
    "plt.savefig('teste_1.png', format='png', dpi=150,bbox_inches = \"tight\")\n",
    "plt.show(h)"
   ]
  },
  {
   "cell_type": "markdown",
   "metadata": {},
   "source": [
    "Agora o gráfico de resíduos. (Lembrando, que estes são os gráficos defaults mais simples possíveis, caso queira sofisticar é só pesquisar, tem muito conteúdo!)"
   ]
  },
  {
   "cell_type": "code",
   "execution_count": null,
   "metadata": {},
   "outputs": [],
   "source": [
    "g = plt.figure(2)\n",
    "g.set_size_inches(6, 1)\n",
    "g =plt.errorbar(x,y-f(x,b,a),sigma_y,fmt='.',color='red')\n",
    "g = plt.hlines(0,x.min(),x.max(),color='black')\n",
    "g = plt.grid()\n",
    "g = plt.ylabel(\"f (x)\")\n",
    "g = plt.xlabel('x')\n",
    "g = plt.savefig('teste_1_resid.png', format='png', dpi=150,bbox_inches = \"tight\")\n",
    "g = plt.show(g)"
   ]
  },
  {
   "cell_type": "markdown",
   "metadata": {},
   "source": [
    "## Dicas adicionais"
   ]
  },
  {
   "cell_type": "markdown",
   "metadata": {},
   "source": [
    "Quero relembrar que todas as bibliotecas são vastas e os conteúdos sobre elas não se acabam, então, sempre que tiver dúvida você provavelmente vai achar com bastante facilidade na internet, principalmente, em referências e no StackOverflow."
   ]
  },
  {
   "cell_type": "markdown",
   "metadata": {},
   "source": [
    "$(*)$ Ótimo vídeo sobre o básico de curve fitting no python: \n",
    "https://www.youtube.com/watch?v=Jl-Ye38qkRc&t=810s"
   ]
  },
  {
   "cell_type": "markdown",
   "metadata": {},
   "source": [
    "$(*)$ Página com os códigos e noções básicas sobre o curve fitting no python: \n",
    "https://towardsdatascience.com/basic-curve-fitting-of-scientific-data-with-python-9592244a2509\n"
   ]
  },
  {
   "cell_type": "markdown",
   "metadata": {},
   "source": [
    "$(*)$ Eu usual faço tabelas no Google Sheets e import para cá com o pandas. Não é difícil fazer e nem mexer, mas exige um pouco para se acostumar e tals."
   ]
  },
  {
   "cell_type": "markdown",
   "metadata": {},
   "source": [
    "# 2. Colocando na prática"
   ]
  },
  {
   "cell_type": "markdown",
   "metadata": {},
   "source": [
    "#### Vamos usar dados com incerteza em x e y ( como geralmente ocorre na disciplina de experimental)"
   ]
  },
  {
   "cell_type": "markdown",
   "metadata": {},
   "source": [
    "$*$ É importante lembrar que a função curve_fit vista acima é apenas para o caso com incerteza em x"
   ]
  },
  {
   "cell_type": "markdown",
   "metadata": {},
   "source": [
    "$*$ Para simular uma atividade foram gerados dados que estão em dois formatos, csv e txt."
   ]
  },
  {
   "cell_type": "markdown",
   "metadata": {},
   "source": [
    "#### Importando txt com Pandas"
   ]
  },
  {
   "cell_type": "code",
   "execution_count": null,
   "metadata": {},
   "outputs": [],
   "source": [
    "data = pd.read_csv('exemplo.txt',sep=\"\\t\")\n",
    "\n",
    "# No caso do separador com vírgulas é preciso fazer\n",
    "# data_1 = pd.read_csv('exemplo.txt', sep=\"\\t\", decimal=\",\")\n",
    "\n",
    "data.head()"
   ]
  },
  {
   "cell_type": "markdown",
   "metadata": {},
   "source": [
    "#### Importando csv com Pandas"
   ]
  },
  {
   "cell_type": "code",
   "execution_count": null,
   "metadata": {},
   "outputs": [],
   "source": [
    "data = pd.read_csv('exemplo.csv')\n",
    "data.head()"
   ]
  },
  {
   "cell_type": "markdown",
   "metadata": {},
   "source": [
    "### Análise dos dados"
   ]
  },
  {
   "cell_type": "markdown",
   "metadata": {},
   "source": [
    "Vamos começar pelo modelo ( os dados criados são feitos para serem ajustados por uma parábola)"
   ]
  },
  {
   "cell_type": "markdown",
   "metadata": {},
   "source": [
    "#### Modelo"
   ]
  },
  {
   "cell_type": "code",
   "execution_count": null,
   "metadata": {},
   "outputs": [],
   "source": [
    "# Importante que notar que agora nossos parâmetros são representados por array\n",
    "# Outro fator a se notar é a ordem na a f, ou seja, f(p,x) \"p\" vem primeiro\n",
    "\n",
    "def f(p,x):\n",
    "    return p[0]*x**2 + p[1]*x + p[2]"
   ]
  },
  {
   "cell_type": "markdown",
   "metadata": {},
   "source": [
    "##### Usando os valores de $x$, $y$, $\\sigma_x$ e $\\sigma_y$"
   ]
  },
  {
   "cell_type": "code",
   "execution_count": null,
   "metadata": {},
   "outputs": [],
   "source": [
    "x = data['x (cm)']\n",
    "y = data['y (cm)']\n",
    "sigma_x = data['sigma_x (cm)']\n",
    "sigma_y = data['sigma_y (cm)']\n",
    "# O x é uma \"Série\", seria algo como um array com indexes, mas se comporta de maneira\n",
    "# bastante similar\n",
    "\n",
    "x.head()"
   ]
  },
  {
   "cell_type": "markdown",
   "metadata": {},
   "source": [
    "### O ajuste"
   ]
  },
  {
   "cell_type": "markdown",
   "metadata": {},
   "source": [
    "Como agora nossa incerteza está nas duas variáveis, precisamos utiliar um outro método da mesma biblioteca( Scipy ). O método é o ODR."
   ]
  },
  {
   "cell_type": "code",
   "execution_count": null,
   "metadata": {},
   "outputs": [],
   "source": [
    "# objeto modelo ( isso é um termo técnico para dizer que o modelo está guardado em um \"objeto\")\n",
    "model_object = odrpack.Model(f)\n",
    "# Objeto data ( termo técnico para dizer que dizer que o modelo está guardado em um \"objeto\")\n",
    "data_object = odrpack.RealData(x,y,sx=sigma_x, sy=sigma_y)\n",
    "# Estabelece a relação entre data e modelo, e em geral necessita de das condições iniciais\n",
    "# No caso do nosso modelo temos 3 parâmetros, ou seja beta0 = lista de 3 elementos\n",
    "odr = odrpack.ODR(data_object, model_object, beta0=[1,1,1])\n",
    "# Roda a regressão\n",
    "odr.set_job(fit_type=0)  # fit_type = 0 executa a regressão por ODR e fit_type = 2 por MMQ\n",
    "# O tópico do fit_type é um complicado e vai além do proposito dessa introdução\n",
    "out = odr.run()\n",
    "out.pprint()"
   ]
  },
  {
   "cell_type": "markdown",
   "metadata": {},
   "source": [
    "Agora só falta implementar o $\\chi^2$"
   ]
  },
  {
   "cell_type": "markdown",
   "metadata": {},
   "source": [
    "$$\n",
    "\\begin{align}\n",
    "{\\chi}^2=\\sum_{k=1}^{n} \\frac{(y_i - f(x_i))^2}{\\sigma_i^2 + \\big(\\frac{\\partial f}{\\partial x}\\big)^2 \\sigma_{x_i}^2 }\n",
    "\\end{align}\n",
    "$$"
   ]
  },
  {
   "cell_type": "markdown",
   "metadata": {},
   "source": [
    "Não impletarei, mas você pode fazer essa linha de código fácilmente sabendo a derivada analítica"
   ]
  },
  {
   "cell_type": "markdown",
   "metadata": {},
   "source": [
    "### Gráficos"
   ]
  },
  {
   "cell_type": "markdown",
   "metadata": {},
   "source": [
    "Vale ressaltar que o método plt.savefig() salvará os gráficos no diretório do .ipynb ou do .py"
   ]
  },
  {
   "cell_type": "code",
   "execution_count": null,
   "metadata": {},
   "outputs": [],
   "source": [
    "\n",
    "ax2 = plt.figure(1)\n",
    "ax2 = plt.errorbar(x, y, xerr=sigma_x, yerr=sigma_y, linestyle='None', marker='+',color='black')\n",
    "#ax2 = plt.ylim(-1,2)\n",
    "#ax2 = plt.xlim(0, 20000)\n",
    "ax2 = plt.plot(x, f([2.01584576e-01, -3.87102908e+01, 1.85196706e+03],x), label='model',color='red')\n",
    "# nomeando os eixos\n",
    "ax2 = plt.xlabel(r'$x (cm)$')\n",
    "ax2 = plt.ylabel(r'$y (cm)$')\n",
    "ax2 = plt.grid()\n",
    "#Salvando a figura\n",
    "ax2 = plt.savefig('exemplo.png',dpi=150,bbox_inches = \"tight\")\n",
    "\n",
    "ax3 = plt.figure(2)\n",
    "ax3 = plt.errorbar(x, abs(y - f([2.01584576e-01, -3.87102908e+01, 1.85196706e+03],x))\n",
    "                   ,xerr=sigma_x, yerr=sigma_y, linestyle='None', marker='+',color='black')\n",
    "\n",
    "ax3 = plt.hlines(0,x.min(),x.max(),color='red')\n",
    "ax3 = plt.grid()\n",
    "# Nomeando os eixos\n",
    "ax2 = plt.xlabel(r'$x (cm)$')\n",
    "ax2 = plt.ylabel(r'$y(cm) - modelo$')\n",
    "ax3 = plt.gcf()\n",
    "ax3.set_size_inches(6, 1)\n",
    "#Salvando a figura\n",
    "ax3 = plt.savefig('exemplo_resid.png',dpi=150,bbox_inches = \"tight\")"
   ]
  }
 ],
 "metadata": {
  "kernelspec": {
   "display_name": "Python 3",
   "language": "python",
   "name": "python3"
  },
  "language_info": {
   "codemirror_mode": {
    "name": "ipython",
    "version": 3
   },
   "file_extension": ".py",
   "mimetype": "text/x-python",
   "name": "python",
   "nbconvert_exporter": "python",
   "pygments_lexer": "ipython3",
   "version": "3.8.3"
  }
 },
 "nbformat": 4,
 "nbformat_minor": 2
}
